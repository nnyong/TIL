{
 "cells": [
  {
   "cell_type": "markdown",
   "metadata": {},
   "source": [
    "# OOP\n",
    "### 구미캠퍼스 1반 조영현\n",
    "##### 190110"
   ]
  },
  {
   "cell_type": "markdown",
   "metadata": {},
   "source": [
    "### Backgroud\n",
    "* 객체지향프로그래밍 \n",
    "* 클래스, 인스턴스"
   ]
  },
  {
   "cell_type": "markdown",
   "metadata": {},
   "source": [
    "### Goal\n",
    "* 클래스에 대한 이해\n"
   ]
  },
  {
   "cell_type": "markdown",
   "metadata": {},
   "source": [
    "### Problem\n",
    "* 다음과 같은 클래스 Circle이 있다."
   ]
  },
  {
   "cell_type": "code",
   "execution_count": 1,
   "metadata": {},
   "outputs": [],
   "source": [
    "class Circle():\n",
    "    pi=3.14\n",
    "    x=0\n",
    "    y=0\n",
    "    r=0\n",
    "    \n",
    "    def area(self):\n",
    "        return self.pi*self.r*self.r\n",
    "    def circumference(self):\n",
    "        return 2*self.pi*self.r\n",
    "    def center(self):\n",
    "        return (self.x, self.y)\n",
    "    def move(self,x,y):\n",
    "        self.x=x\n",
    "        self.y=y"
   ]
  },
  {
   "cell_type": "markdown",
   "metadata": {},
   "source": [
    "* 반지름이 3이고 x,y 좌표가 (2.4)인 원을 만들어 넓이와 둘레를 출력하세요"
   ]
  },
  {
   "cell_type": "code",
   "execution_count": 2,
   "metadata": {},
   "outputs": [
    {
     "name": "stdout",
     "output_type": "stream",
     "text": [
      "0 0 0\n",
      "x축: 2\n",
      "y축: 3\n",
      "반지름: 3\n",
      "넓이: 28.259999999999998\n",
      "둘레: 18.84\n"
     ]
    }
   ],
   "source": [
    "a=Circle()\n",
    "print(a.x, a.y, a.r)\n",
    "a.x=2\n",
    "a.y=3\n",
    "a.r=3\n",
    "print(f'x축: {a.x}\\ny축: {a.y}\\n반지름: {a.r}')\n",
    "print(f'넓이: {a.area()}')\n",
    "print(f'둘레: {a.circumference()}')"
   ]
  },
  {
   "cell_type": "code",
   "execution_count": null,
   "metadata": {},
   "outputs": [],
   "source": []
  }
 ],
 "metadata": {
  "kernelspec": {
   "display_name": "Python 3",
   "language": "python",
   "name": "python3"
  },
  "language_info": {
   "codemirror_mode": {
    "name": "ipython",
    "version": 3
   },
   "file_extension": ".py",
   "mimetype": "text/x-python",
   "name": "python",
   "nbconvert_exporter": "python",
   "pygments_lexer": "ipython3",
   "version": "3.7.1"
  }
 },
 "nbformat": 4,
 "nbformat_minor": 2
}
