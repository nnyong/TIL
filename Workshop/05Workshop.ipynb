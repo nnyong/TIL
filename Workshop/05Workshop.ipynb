{
 "cells": [
  {
   "cell_type": "markdown",
   "metadata": {},
   "source": [
    "# 05 Workshop\n",
    "### 구미캠퍼스 1반 조영현\n",
    "##### 190108"
   ]
  },
  {
   "cell_type": "markdown",
   "metadata": {},
   "source": [
    "### Background\n",
    "\n",
    "* 조건문 및 반복문 \n",
    "* 함수\n"
   ]
  },
  {
   "cell_type": "markdown",
   "metadata": {},
   "source": [
    "### Goal\n",
    "* 조건문 및 반복문에 대한 이해 \n",
    "* 함수에 대한 이해"
   ]
  },
  {
   "cell_type": "markdown",
   "metadata": {},
   "source": [
    "### Problem\n",
    "* Palindrome은 앞에서부터 읽었을 때와 뒤에서부터 읽었을 때 같은 단어를 뜻한다. 따라서, ‘a’ ‘nan’ ’토마토’ 모두 palindrome에 해당합니다. \n",
    "\n",
    "* 따라서, 단어를 입력받아 Palindrome을 검증하고 True나 False를 리턴하는 함수 palindrome(word)를 만들어보세요.\n"
   ]
  },
  {
   "cell_type": "code",
   "execution_count": 10,
   "metadata": {},
   "outputs": [],
   "source": [
    "def palindrome(word):\n",
    "    if word==word[::-1]:\n",
    "        return True\n",
    "    else:\n",
    "        return False"
   ]
  },
  {
   "cell_type": "code",
   "execution_count": 11,
   "metadata": {},
   "outputs": [
    {
     "name": "stdout",
     "output_type": "stream",
     "text": [
      "True\n",
      "True\n",
      "True\n",
      "False\n"
     ]
    }
   ],
   "source": [
    "print(palindrome('a'))\n",
    "print(palindrome('nan'))\n",
    "print(palindrome('토마토'))\n",
    "print(palindrome('안녕하세요'))"
   ]
  },
  {
   "cell_type": "code",
   "execution_count": 18,
   "metadata": {},
   "outputs": [],
   "source": [
    "# 교수님 답\n",
    "def pro_palindrome(word):\n",
    "    return word==word[::-1] #s[start:end:step] -> [::-1] 문자의 양 끝단, step -1이므로 뒤에서부터 세리게 됨.\n",
    "\n",
    "def pro_palindrome2(word):\n",
    "    list_word=list(word)\n",
    "    for i in range(len(list_word)//2):\n",
    "        if list_word[i] != list_word[-i-1]:\n",
    "            return False\n",
    "    return True\n",
    "\n",
    "#재귀방법\n",
    "def pro_palindrome3(word):\n",
    "    if len(word)<2:\n",
    "        return True\n",
    "    if word[0] != word[-1]:\n",
    "        return False\n",
    "    return pro_palindrome3(word[1:-1])"
   ]
  },
  {
   "cell_type": "code",
   "execution_count": 19,
   "metadata": {},
   "outputs": [
    {
     "name": "stdout",
     "output_type": "stream",
     "text": [
      "True\n",
      "True\n",
      "True\n",
      "False\n",
      "True\n",
      "True\n",
      "True\n",
      "False\n",
      "True\n",
      "True\n",
      "True\n",
      "False\n"
     ]
    }
   ],
   "source": [
    "print(pro_palindrome('a'))\n",
    "print(pro_palindrome('nan'))\n",
    "print(pro_palindrome('토마토'))\n",
    "print(pro_palindrome('안녕하세요'))\n",
    "\n",
    "print(pro_palindrome2('a'))\n",
    "print(pro_palindrome2('nan'))\n",
    "print(pro_palindrome2('토마토'))\n",
    "print(pro_palindrome2('안녕하세요'))\n",
    "\n",
    "print(pro_palindrome3('a'))\n",
    "print(pro_palindrome3('nan'))\n",
    "print(pro_palindrome3('토마토'))\n",
    "print(pro_palindrome3('안녕하세요'))"
   ]
  },
  {
   "cell_type": "code",
   "execution_count": null,
   "metadata": {},
   "outputs": [],
   "source": []
  },
  {
   "cell_type": "code",
   "execution_count": null,
   "metadata": {},
   "outputs": [],
   "source": []
  }
 ],
 "metadata": {
  "kernelspec": {
   "display_name": "Python 3",
   "language": "python",
   "name": "python3"
  },
  "language_info": {
   "codemirror_mode": {
    "name": "ipython",
    "version": 3
   },
   "file_extension": ".py",
   "mimetype": "text/x-python",
   "name": "python",
   "nbconvert_exporter": "python",
   "pygments_lexer": "ipython3",
   "version": "3.7.1"
  }
 },
 "nbformat": 4,
 "nbformat_minor": 2
}
