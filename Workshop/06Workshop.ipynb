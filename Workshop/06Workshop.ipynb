{
 "cells": [
  {
   "cell_type": "markdown",
   "metadata": {},
   "source": [
    "# 함수\n",
    "### 구미캠퍼스 1반 조영현\n",
    "##### 190109"
   ]
  },
  {
   "cell_type": "markdown",
   "metadata": {},
   "source": [
    "### Backgroud\n",
    "* 조건문 및 반복문\n",
    "* 함수"
   ]
  },
  {
   "cell_type": "markdown",
   "metadata": {},
   "source": [
    "### Goal\n",
    "* 함수에 대한 이해\n"
   ]
  },
  {
   "cell_type": "markdown",
   "metadata": {},
   "source": [
    "### Problem\n",
    "* 양의 정수 x를 입력 받아 제곱근의 근사값의 결과를 반환하는 함수를 작성하세요. \n",
    "* sqrt() 사용 금지\n"
   ]
  },
  {
   "cell_type": "code",
   "execution_count": 11,
   "metadata": {},
   "outputs": [],
   "source": [
    "def my_sqrt(x):\n",
    "    a=1\n",
    "    b=2\n",
    "    for i in range(10000):\n",
    "        if a**2 < x < b**2:\n",
    "            if x < ((a+b)/2)**2 < b**2:\n",
    "                b=(a+b)/2\n",
    "            elif a**2 < ((a+b)/2)**2 < x:\n",
    "                a=(a+b)/2\n",
    "        elif a**2==x:\n",
    "            return a\n",
    "        elif b**2==x:\n",
    "            return b           \n",
    "        else:\n",
    "            a+=1\n",
    "            b+=1\n",
    "    return (a+b)/2"
   ]
  },
  {
   "cell_type": "code",
   "execution_count": 12,
   "metadata": {},
   "outputs": [
    {
     "data": {
      "text/plain": [
       "3.162277660168379"
      ]
     },
     "execution_count": 12,
     "metadata": {},
     "output_type": "execute_result"
    }
   ],
   "source": [
    "my_sqrt(10)"
   ]
  },
  {
   "cell_type": "code",
   "execution_count": 13,
   "metadata": {},
   "outputs": [],
   "source": [
    "# 교수님 답\n",
    "def pro_sqrt(n):\n",
    "    x,y = 1, n\n",
    "    result=1\n",
    "    \n",
    "    while abs(result**2-n)>0.000001:\n",
    "        result=(x+y)/2\n",
    "        if result**2<n:\n",
    "            x=result\n",
    "        else:\n",
    "            y=result\n",
    "    return result"
   ]
  },
  {
   "cell_type": "code",
   "execution_count": 14,
   "metadata": {},
   "outputs": [
    {
     "name": "stdout",
     "output_type": "stream",
     "text": [
      "pro_sqrt:\t 1.4142136573791504\n",
      "math.sqrt:\t 1.4142135623730951\n"
     ]
    }
   ],
   "source": [
    "print('pro_sqrt:\\t', pro_sqrt(2))\n",
    "import math\n",
    "print('math.sqrt:\\t',math.sqrt(2))"
   ]
  },
  {
   "cell_type": "code",
   "execution_count": null,
   "metadata": {},
   "outputs": [],
   "source": []
  }
 ],
 "metadata": {
  "kernelspec": {
   "display_name": "Python 3",
   "language": "python",
   "name": "python3"
  },
  "language_info": {
   "codemirror_mode": {
    "name": "ipython",
    "version": 3
   },
   "file_extension": ".py",
   "mimetype": "text/x-python",
   "name": "python",
   "nbconvert_exporter": "python",
   "pygments_lexer": "ipython3",
   "version": "3.7.1"
  }
 },
 "nbformat": 4,
 "nbformat_minor": 2
}
