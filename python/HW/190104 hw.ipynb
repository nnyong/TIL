{
 "cells": [
  {
   "cell_type": "markdown",
   "metadata": {},
   "source": [
    "# 190104 HW"
   ]
  },
  {
   "cell_type": "markdown",
   "metadata": {},
   "source": [
    "## 조영현"
   ]
  },
  {
   "cell_type": "markdown",
   "metadata": {},
   "source": [
    "### 학습해야 할 내용 \n",
    "```\n",
    "• CLI 기본 명령어 \n",
    "• 파일 및 디렉토리 조작\n",
    "```"
   ]
  },
  {
   "cell_type": "markdown",
   "metadata": {},
   "source": [
    "    \n",
    "    1. True / False\n",
    "    \n",
    "    1-1. windows 와 unix 계열 운체제는 CLI(Command Line Interface) 에서 같은 명령어 를 사용한다. [ False ]\n",
    "    \n",
    "    1-2. 우리가 사용하는 컴퓨터는 windows 이므로, unix 계열 운체제 명령어를 학습할 필요 가 없다. [ False ]\n",
    "    \n",
    "    1-3. CLI 는 결국 컴퓨터를 조작하기 위해 사용하는 것이다. [ True ]\n",
    "    \n",
    "    1-4. CLI 를 통해서 바탕화면에 새로운 파이썬파일(.py)을 생성할 수 있다. [ True ]\n"
   ]
  },
  {
   "cell_type": "markdown",
   "metadata": {},
   "source": [
    "2. 다음 unix 명령어들에 대하여 간략하게 기술하세요.\n",
    "\n",
    "\n",
    "    2-1. ls\n",
    "        폴더 내 파일들의 목록을 출력한다.\n",
    "\n",
    "    2-2. cd\n",
    "        폴더 이동할 때 사용한다.\n",
    "\n",
    "    2-3. mkdir\n",
    "        폴더 만들 때 사용한다.\n",
    "\n",
    "    2-4. touch\n",
    "        파일 만들 때 사용한다."
   ]
  },
  {
   "cell_type": "markdown",
   "metadata": {},
   "source": [
    "3. CLI 와 익숙해지게 되면, Tab 키를 매우 빈번하게 사용하게 됩니다. 그 이유는 무엇일까요?  ",
    " (git bash 를 켜고 cd Desk 까지만 입력 후 탭 키를 눌러 봅시다!)"
   ]
  },
  {
   "cell_type": "markdown",
   "metadata": {},
   "source": [
    "자동완성 기능때문에"
   ]
  }
 ],
 "metadata": {
  "kernelspec": {
   "display_name": "Python 3",
   "language": "python",
   "name": "python3"
  },
  "language_info": {
   "codemirror_mode": {
    "name": "ipython",
    "version": 3
   },
   "file_extension": ".py",
   "mimetype": "text/x-python",
   "name": "python",
   "nbconvert_exporter": "python",
   "pygments_lexer": "ipython3",
   "version": "3.7.1"
  }
 },
 "nbformat": 4,
 "nbformat_minor": 2
}
