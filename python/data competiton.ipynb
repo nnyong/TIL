{
 "cells": [
  {
   "cell_type": "code",
   "execution_count": 4,
   "metadata": {},
   "outputs": [],
   "source": [
    "import pandas as pd"
   ]
  },
  {
   "cell_type": "code",
   "execution_count": 6,
   "metadata": {},
   "outputs": [
    {
     "name": "stderr",
     "output_type": "stream",
     "text": [
      "c:\\users\\student\\appdata\\local\\programs\\python\\python37\\lib\\site-packages\\IPython\\core\\interactiveshell.py:3020: DtypeWarning: Columns (7) have mixed types. Specify dtype option on import or set low_memory=False.\n",
      "  interactivity=interactivity, compiler=compiler, result=result)\n"
     ]
    }
   ],
   "source": [
    "product=pd.read_csv(\"C:\\\\Users\\\\student\\\\nnyong\\\\data\\\\01.csv\",encoding='utf-8')"
   ]
  },
  {
   "cell_type": "code",
   "execution_count": 7,
   "metadata": {},
   "outputs": [
    {
     "data": {
      "text/html": [
       "<div>\n",
       "<style scoped>\n",
       "    .dataframe tbody tr th:only-of-type {\n",
       "        vertical-align: middle;\n",
       "    }\n",
       "\n",
       "    .dataframe tbody tr th {\n",
       "        vertical-align: top;\n",
       "    }\n",
       "\n",
       "    .dataframe thead th {\n",
       "        text-align: right;\n",
       "    }\n",
       "</style>\n",
       "<table border=\"1\" class=\"dataframe\">\n",
       "  <thead>\n",
       "    <tr style=\"text-align: right;\">\n",
       "      <th></th>\n",
       "      <th>CLNT_ID</th>\n",
       "      <th>SESS_ID</th>\n",
       "      <th>HITS_SEQ</th>\n",
       "      <th>PD_C</th>\n",
       "      <th>PD_ADD_NM</th>\n",
       "      <th>PD_BRA_NM</th>\n",
       "      <th>PD_BUY_AM</th>\n",
       "      <th>PD_BUY_CT</th>\n",
       "    </tr>\n",
       "  </thead>\n",
       "  <tbody>\n",
       "    <tr>\n",
       "      <th>0</th>\n",
       "      <td>4139680</td>\n",
       "      <td>7605037</td>\n",
       "      <td>12</td>\n",
       "      <td>642112</td>\n",
       "      <td>색상:워터멜론</td>\n",
       "      <td>[바비브라운]</td>\n",
       "      <td>39,000</td>\n",
       "      <td>1</td>\n",
       "    </tr>\n",
       "    <tr>\n",
       "      <th>1</th>\n",
       "      <td>4140076</td>\n",
       "      <td>10189797</td>\n",
       "      <td>13</td>\n",
       "      <td>570603</td>\n",
       "      <td>색상:BLK0_(BLK0)BLACK|사이즈:120 / 2개</td>\n",
       "      <td>데상트</td>\n",
       "      <td>39,000</td>\n",
       "      <td>2</td>\n",
       "    </tr>\n",
       "    <tr>\n",
       "      <th>2</th>\n",
       "      <td>4142395</td>\n",
       "      <td>6158159</td>\n",
       "      <td>85</td>\n",
       "      <td>179538</td>\n",
       "      <td>(not set)</td>\n",
       "      <td>[아베다]</td>\n",
       "      <td>39,000</td>\n",
       "      <td>1</td>\n",
       "    </tr>\n",
       "    <tr>\n",
       "      <th>3</th>\n",
       "      <td>4144914</td>\n",
       "      <td>7935714</td>\n",
       "      <td>12</td>\n",
       "      <td>554336</td>\n",
       "      <td>색상:블랙|사이즈:160cm(12~13세) / 1개</td>\n",
       "      <td>아디다스 키즈</td>\n",
       "      <td>39,000</td>\n",
       "      <td>1</td>\n",
       "    </tr>\n",
       "    <tr>\n",
       "      <th>4</th>\n",
       "      <td>4144917</td>\n",
       "      <td>6406509</td>\n",
       "      <td>78</td>\n",
       "      <td>190306</td>\n",
       "      <td>5개</td>\n",
       "      <td>데코르테</td>\n",
       "      <td>39,000</td>\n",
       "      <td>5</td>\n",
       "    </tr>\n",
       "  </tbody>\n",
       "</table>\n",
       "</div>"
      ],
      "text/plain": [
       "   CLNT_ID   SESS_ID  HITS_SEQ    PD_C                         PD_ADD_NM  \\\n",
       "0  4139680   7605037        12  642112                           색상:워터멜론   \n",
       "1  4140076  10189797        13  570603  색상:BLK0_(BLK0)BLACK|사이즈:120 / 2개   \n",
       "2  4142395   6158159        85  179538                         (not set)   \n",
       "3  4144914   7935714        12  554336      색상:블랙|사이즈:160cm(12~13세) / 1개   \n",
       "4  4144917   6406509        78  190306                                5개   \n",
       "\n",
       "  PD_BRA_NM PD_BUY_AM PD_BUY_CT  \n",
       "0   [바비브라운]    39,000         1  \n",
       "1       데상트    39,000         2  \n",
       "2     [아베다]    39,000         1  \n",
       "3   아디다스 키즈    39,000         1  \n",
       "4      데코르테    39,000         5  "
      ]
     },
     "execution_count": 7,
     "metadata": {},
     "output_type": "execute_result"
    }
   ],
   "source": [
    "product.head()"
   ]
  },
  {
   "cell_type": "code",
   "execution_count": 8,
   "metadata": {},
   "outputs": [],
   "source": [
    "search1=pd.read_csv(\"C:\\\\Users\\\\student\\\\nnyong\\\\data\\\\02.csv\",encoding='utf-8')"
   ]
  },
  {
   "cell_type": "code",
   "execution_count": 9,
   "metadata": {},
   "outputs": [],
   "source": [
    "search2=pd.read_csv(\"C:\\\\Users\\\\student\\\\nnyong\\\\data\\\\03.csv\",encoding='utf-8')"
   ]
  },
  {
   "cell_type": "code",
   "execution_count": 10,
   "metadata": {},
   "outputs": [],
   "source": [
    "custom=pd.read_csv(\"C:\\\\Users\\\\student\\\\nnyong\\\\data\\\\04.csv\",encoding='utf-8')"
   ]
  },
  {
   "cell_type": "code",
   "execution_count": 11,
   "metadata": {},
   "outputs": [],
   "source": [
    "session=pd.read_csv(\"C:\\\\Users\\\\student\\\\nnyong\\\\data\\\\05.csv\",encoding='utf-8')"
   ]
  },
  {
   "cell_type": "code",
   "execution_count": 12,
   "metadata": {},
   "outputs": [],
   "source": [
    "master=pd.read_csv(\"C:\\\\Users\\\\student\\\\nnyong\\\\data\\\\06.csv\",encoding='utf-8')"
   ]
  },
  {
   "cell_type": "code",
   "execution_count": 20,
   "metadata": {},
   "outputs": [
    {
     "data": {
      "text/html": [
       "<div>\n",
       "<style scoped>\n",
       "    .dataframe tbody tr th:only-of-type {\n",
       "        vertical-align: middle;\n",
       "    }\n",
       "\n",
       "    .dataframe tbody tr th {\n",
       "        vertical-align: top;\n",
       "    }\n",
       "\n",
       "    .dataframe thead th {\n",
       "        text-align: right;\n",
       "    }\n",
       "</style>\n",
       "<table border=\"1\" class=\"dataframe\">\n",
       "  <thead>\n",
       "    <tr style=\"text-align: right;\">\n",
       "      <th></th>\n",
       "      <th>CLNT_ID</th>\n",
       "      <th>SESS_ID</th>\n",
       "      <th>HITS_SEQ</th>\n",
       "      <th>PD_C</th>\n",
       "      <th>PD_ADD_NM</th>\n",
       "      <th>PD_BRA_NM</th>\n",
       "      <th>PD_BUY_AM</th>\n",
       "      <th>PD_BUY_CT</th>\n",
       "    </tr>\n",
       "  </thead>\n",
       "  <tbody>\n",
       "    <tr>\n",
       "      <th>0</th>\n",
       "      <td>4139680</td>\n",
       "      <td>7605037</td>\n",
       "      <td>12</td>\n",
       "      <td>642112</td>\n",
       "      <td>색상:워터멜론</td>\n",
       "      <td>[바비브라운]</td>\n",
       "      <td>39,000</td>\n",
       "      <td>1</td>\n",
       "    </tr>\n",
       "    <tr>\n",
       "      <th>1</th>\n",
       "      <td>4140076</td>\n",
       "      <td>10189797</td>\n",
       "      <td>13</td>\n",
       "      <td>570603</td>\n",
       "      <td>색상:BLK0_(BLK0)BLACK|사이즈:120 / 2개</td>\n",
       "      <td>데상트</td>\n",
       "      <td>39,000</td>\n",
       "      <td>2</td>\n",
       "    </tr>\n",
       "    <tr>\n",
       "      <th>2</th>\n",
       "      <td>4142395</td>\n",
       "      <td>6158159</td>\n",
       "      <td>85</td>\n",
       "      <td>179538</td>\n",
       "      <td>(not set)</td>\n",
       "      <td>[아베다]</td>\n",
       "      <td>39,000</td>\n",
       "      <td>1</td>\n",
       "    </tr>\n",
       "    <tr>\n",
       "      <th>3</th>\n",
       "      <td>4144914</td>\n",
       "      <td>7935714</td>\n",
       "      <td>12</td>\n",
       "      <td>554336</td>\n",
       "      <td>색상:블랙|사이즈:160cm(12~13세) / 1개</td>\n",
       "      <td>아디다스 키즈</td>\n",
       "      <td>39,000</td>\n",
       "      <td>1</td>\n",
       "    </tr>\n",
       "    <tr>\n",
       "      <th>4</th>\n",
       "      <td>4144917</td>\n",
       "      <td>6406509</td>\n",
       "      <td>78</td>\n",
       "      <td>190306</td>\n",
       "      <td>5개</td>\n",
       "      <td>데코르테</td>\n",
       "      <td>39,000</td>\n",
       "      <td>5</td>\n",
       "    </tr>\n",
       "  </tbody>\n",
       "</table>\n",
       "</div>"
      ],
      "text/plain": [
       "   CLNT_ID   SESS_ID  HITS_SEQ    PD_C                         PD_ADD_NM  \\\n",
       "0  4139680   7605037        12  642112                           색상:워터멜론   \n",
       "1  4140076  10189797        13  570603  색상:BLK0_(BLK0)BLACK|사이즈:120 / 2개   \n",
       "2  4142395   6158159        85  179538                         (not set)   \n",
       "3  4144914   7935714        12  554336      색상:블랙|사이즈:160cm(12~13세) / 1개   \n",
       "4  4144917   6406509        78  190306                                5개   \n",
       "\n",
       "  PD_BRA_NM PD_BUY_AM PD_BUY_CT  \n",
       "0   [바비브라운]    39,000         1  \n",
       "1       데상트    39,000         2  \n",
       "2     [아베다]    39,000         1  \n",
       "3   아디다스 키즈    39,000         1  \n",
       "4      데코르테    39,000         5  "
      ]
     },
     "execution_count": 20,
     "metadata": {},
     "output_type": "execute_result"
    }
   ],
   "source": [
    "product.head()"
   ]
  },
  {
   "cell_type": "code",
   "execution_count": 21,
   "metadata": {},
   "outputs": [
    {
     "data": {
      "text/html": [
       "<div>\n",
       "<style scoped>\n",
       "    .dataframe tbody tr th:only-of-type {\n",
       "        vertical-align: middle;\n",
       "    }\n",
       "\n",
       "    .dataframe tbody tr th {\n",
       "        vertical-align: top;\n",
       "    }\n",
       "\n",
       "    .dataframe thead th {\n",
       "        text-align: right;\n",
       "    }\n",
       "</style>\n",
       "<table border=\"1\" class=\"dataframe\">\n",
       "  <thead>\n",
       "    <tr style=\"text-align: right;\">\n",
       "      <th></th>\n",
       "      <th>PD_C</th>\n",
       "      <th>PD_NM</th>\n",
       "      <th>CLAC1_NM</th>\n",
       "      <th>CLAC2_NM</th>\n",
       "      <th>CLAC3_NM</th>\n",
       "    </tr>\n",
       "  </thead>\n",
       "  <tbody>\n",
       "    <tr>\n",
       "      <th>0</th>\n",
       "      <td>64382</td>\n",
       "      <td>언더아머 남성 UA HG 아머 모크 LS 1289559-001 - 블랙 / MD[95]</td>\n",
       "      <td>스포츠패션</td>\n",
       "      <td>남성일반스포츠의류</td>\n",
       "      <td>남성스포츠티셔츠</td>\n",
       "    </tr>\n",
       "    <tr>\n",
       "      <th>1</th>\n",
       "      <td>62282</td>\n",
       "      <td>여자 플라워덧신 2족선물세트 17403-2set</td>\n",
       "      <td>속옷/양말/홈웨어</td>\n",
       "      <td>여성양말류</td>\n",
       "      <td>여성일반양말</td>\n",
       "    </tr>\n",
       "    <tr>\n",
       "      <th>2</th>\n",
       "      <td>61729</td>\n",
       "      <td>88A2933253배트맨스웨트티 - 블랙 / 130</td>\n",
       "      <td>유아동의류</td>\n",
       "      <td>유아의류상의</td>\n",
       "      <td>영유아티셔츠/탑</td>\n",
       "    </tr>\n",
       "    <tr>\n",
       "      <th>3</th>\n",
       "      <td>61537</td>\n",
       "      <td>닥터마틴 아드리안 블랙, 체리레드 - 02_체리레드 / 250mm(6)</td>\n",
       "      <td>패션잡화</td>\n",
       "      <td>남성화</td>\n",
       "      <td>남성부츠</td>\n",
       "    </tr>\n",
       "    <tr>\n",
       "      <th>4</th>\n",
       "      <td>58820</td>\n",
       "      <td>여성 그레이 스트라이프 퍼프 소매 블라우스 (128865YQ33) - 회색(앤틱실버...</td>\n",
       "      <td>남성의류</td>\n",
       "      <td>남성의류상의</td>\n",
       "      <td>남성남방셔츠</td>\n",
       "    </tr>\n",
       "  </tbody>\n",
       "</table>\n",
       "</div>"
      ],
      "text/plain": [
       "    PD_C                                              PD_NM   CLAC1_NM  \\\n",
       "0  64382   언더아머 남성 UA HG 아머 모크 LS 1289559-001 - 블랙 / MD[95]      스포츠패션   \n",
       "1  62282                         여자 플라워덧신 2족선물세트 17403-2set  속옷/양말/홈웨어   \n",
       "2  61729                       88A2933253배트맨스웨트티 - 블랙 / 130      유아동의류   \n",
       "3  61537            닥터마틴 아드리안 블랙, 체리레드 - 02_체리레드 / 250mm(6)       패션잡화   \n",
       "4  58820  여성 그레이 스트라이프 퍼프 소매 블라우스 (128865YQ33) - 회색(앤틱실버...       남성의류   \n",
       "\n",
       "    CLAC2_NM  CLAC3_NM  \n",
       "0  남성일반스포츠의류  남성스포츠티셔츠  \n",
       "1      여성양말류    여성일반양말  \n",
       "2     유아의류상의  영유아티셔츠/탑  \n",
       "3        남성화      남성부츠  \n",
       "4     남성의류상의    남성남방셔츠  "
      ]
     },
     "execution_count": 21,
     "metadata": {},
     "output_type": "execute_result"
    }
   ],
   "source": [
    "master.head()"
   ]
  },
  {
   "cell_type": "code",
   "execution_count": 24,
   "metadata": {
    "scrolled": false
   },
   "outputs": [],
   "source": [
    "pm_merge=pd.merge(product,master,on='PD_C')"
   ]
  },
  {
   "cell_type": "code",
   "execution_count": 25,
   "metadata": {},
   "outputs": [
    {
     "data": {
      "text/plain": [
       "5024906"
      ]
     },
     "execution_count": 25,
     "metadata": {},
     "output_type": "execute_result"
    }
   ],
   "source": [
    "len(pm_merge)"
   ]
  },
  {
   "cell_type": "code",
   "execution_count": null,
   "metadata": {},
   "outputs": [],
   "source": []
  }
 ],
 "metadata": {
  "kernelspec": {
   "display_name": "Python 3",
   "language": "python",
   "name": "python3"
  },
  "language_info": {
   "codemirror_mode": {
    "name": "ipython",
    "version": 3
   },
   "file_extension": ".py",
   "mimetype": "text/x-python",
   "name": "python",
   "nbconvert_exporter": "python",
   "pygments_lexer": "ipython3",
   "version": "3.7.1"
  }
 },
 "nbformat": 4,
 "nbformat_minor": 2
}
