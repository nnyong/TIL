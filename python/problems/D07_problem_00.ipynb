{
 "cells": [
  {
   "cell_type": "markdown",
   "metadata": {},
   "source": [
    "# 문자열 계산하기\n",
    "\n",
    "> 아래와 같이 문자열이 주어졌을 때, 바보같은 사용자를 위해 계산을 해주려고 한다.\n",
    ">\n",
    "> 이 계산기는 더하기와 빼기밖에 못한다.\n",
    ">\n",
    "> `calc(equation)`을 만들어봅시다.\n",
    "\n",
    "---\n",
    "\n",
    "예시)\n",
    "\n",
    "```python\n",
    "calc('123+2-124') #=> 1\n",
    "calc('-12+12-7979+9191') #=> 1212\n",
    "calc('+1-1+1-1+1-1+1-1+1-1+1-1+1-1+1-1+1-1+1-1+1-1+1-1+1-1+1-1+1-1+1-1') #=> 0\n",
    "```"
   ]
  },
  {
   "cell_type": "code",
   "execution_count": 49,
   "metadata": {
    "scrolled": true
   },
   "outputs": [],
   "source": [
    "# 여기에 코드를 작성하세요\n",
    "def calc(equation):\n",
    "    sign=[]\n",
    "    for x in equation:\n",
    "        if x=='+' or x=='-':\n",
    "            equation=equation.replace(x, ' ')\n",
    "            sign.append(x)\n",
    "    equation=[int(n) for n in equation.split()]\n",
    "    result=int(equation[0])\n",
    "    if len(sign)==len(equation):\n",
    "                if sign[0]=='-':\n",
    "                    result=-int(equation[0])\n",
    "                else:\n",
    "                    result=+int(equation[0])\n",
    "#     print(sign)\n",
    "#     print(equation)\n",
    "#     print(result)\n",
    "    for index, num in enumerate(equation):\n",
    "        if index==0:\n",
    "            continue\n",
    "        else:\n",
    "            if len(sign)==len(equation):\n",
    "                if sign[index]==\"+\":\n",
    "                    result+=int(equation[index])\n",
    "                else:\n",
    "                    result-=int(equation[index])\n",
    "            else:\n",
    "                if sign[index-1]==\"+\":\n",
    "                    result+=int(equation[index])\n",
    "                else:\n",
    "                    result-=int(equation[index])\n",
    "    return result"
   ]
  },
  {
   "cell_type": "code",
   "execution_count": 50,
   "metadata": {},
   "outputs": [
    {
     "name": "stdout",
     "output_type": "stream",
     "text": [
      "1\n",
      "1212\n",
      "0\n"
     ]
    }
   ],
   "source": [
    "# 해당 코드를 통해 올바른 결과가 나오는지 확인하세요.\n",
    "print(calc('123+2-124'))\n",
    "print(calc('-12+12-7979+9191'))\n",
    "print(calc('+1-1+1-1+1-1+1-1+1-1+1-1+1-1+1-1+1-1+1-1+1-1+1-1+1-1+1-1+1-1+1-1'))"
   ]
  },
  {
   "cell_type": "code",
   "execution_count": 89,
   "metadata": {},
   "outputs": [],
   "source": [
    "#교수님 답\n",
    "def pro_calc(equation):\n",
    "    result=0\n",
    "    tmp=''\n",
    "    for char in equation:\n",
    "        if not char.isdecimal():\n",
    "            result+=int(tmp)\n",
    "            tmp=''\n",
    "        tmp+=char\n",
    "    return result+int(tmp)\n",
    "\n",
    "def pro_calc2(equation):\n",
    "    result=equation.replace('+',' +').replace('-',' -')\n",
    "    return sum(map(int, result.split()))"
   ]
  },
  {
   "cell_type": "code",
   "execution_count": 90,
   "metadata": {},
   "outputs": [
    {
     "name": "stdout",
     "output_type": "stream",
     "text": [
      "1\n"
     ]
    },
    {
     "ename": "ValueError",
     "evalue": "invalid literal for int() with base 10: ''",
     "output_type": "error",
     "traceback": [
      "\u001b[1;31m---------------------------------------------------------------------------\u001b[0m",
      "\u001b[1;31mValueError\u001b[0m                                Traceback (most recent call last)",
      "\u001b[1;32m<ipython-input-90-ce5b9a66e662>\u001b[0m in \u001b[0;36m<module>\u001b[1;34m\u001b[0m\n\u001b[0;32m      1\u001b[0m \u001b[0mprint\u001b[0m\u001b[1;33m(\u001b[0m\u001b[0mpro_calc\u001b[0m\u001b[1;33m(\u001b[0m\u001b[1;34m'123+2-124'\u001b[0m\u001b[1;33m)\u001b[0m\u001b[1;33m)\u001b[0m\u001b[1;33m\u001b[0m\u001b[1;33m\u001b[0m\u001b[0m\n\u001b[1;32m----> 2\u001b[1;33m \u001b[0mprint\u001b[0m\u001b[1;33m(\u001b[0m\u001b[0mpro_calc\u001b[0m\u001b[1;33m(\u001b[0m\u001b[1;34m'-12+12-7979+9191'\u001b[0m\u001b[1;33m)\u001b[0m\u001b[1;33m)\u001b[0m\u001b[1;33m\u001b[0m\u001b[1;33m\u001b[0m\u001b[0m\n\u001b[0m\u001b[0;32m      3\u001b[0m \u001b[0mprint\u001b[0m\u001b[1;33m(\u001b[0m\u001b[0mpro_calc\u001b[0m\u001b[1;33m(\u001b[0m\u001b[1;34m'+1-1+1-1+1-1+1-1+1-1+1-1+1-1+1-1+1-1+1-1+1-1+1-1+1-1+1-1+1-1+1-1'\u001b[0m\u001b[1;33m)\u001b[0m\u001b[1;33m)\u001b[0m\u001b[1;33m\u001b[0m\u001b[1;33m\u001b[0m\u001b[0m\n\u001b[0;32m      4\u001b[0m \u001b[0mprint\u001b[0m\u001b[1;33m(\u001b[0m\u001b[0mpro_calc2\u001b[0m\u001b[1;33m(\u001b[0m\u001b[1;34m'123+2-124'\u001b[0m\u001b[1;33m)\u001b[0m\u001b[1;33m)\u001b[0m\u001b[1;33m\u001b[0m\u001b[1;33m\u001b[0m\u001b[0m\n\u001b[0;32m      5\u001b[0m \u001b[0mprint\u001b[0m\u001b[1;33m(\u001b[0m\u001b[0mpro_calc2\u001b[0m\u001b[1;33m(\u001b[0m\u001b[1;34m'-12+12-7979+9191'\u001b[0m\u001b[1;33m)\u001b[0m\u001b[1;33m)\u001b[0m\u001b[1;33m\u001b[0m\u001b[1;33m\u001b[0m\u001b[0m\n",
      "\u001b[1;32m<ipython-input-89-34c89978acbf>\u001b[0m in \u001b[0;36mpro_calc\u001b[1;34m(equation)\u001b[0m\n\u001b[0;32m      4\u001b[0m     \u001b[1;32mfor\u001b[0m \u001b[0mchar\u001b[0m \u001b[1;32min\u001b[0m \u001b[0mequation\u001b[0m\u001b[1;33m:\u001b[0m\u001b[1;33m\u001b[0m\u001b[1;33m\u001b[0m\u001b[0m\n\u001b[0;32m      5\u001b[0m         \u001b[1;32mif\u001b[0m \u001b[1;32mnot\u001b[0m \u001b[0mchar\u001b[0m\u001b[1;33m.\u001b[0m\u001b[0misdecimal\u001b[0m\u001b[1;33m(\u001b[0m\u001b[1;33m)\u001b[0m\u001b[1;33m:\u001b[0m\u001b[1;33m\u001b[0m\u001b[1;33m\u001b[0m\u001b[0m\n\u001b[1;32m----> 6\u001b[1;33m             \u001b[0mresult\u001b[0m\u001b[1;33m+=\u001b[0m\u001b[0mint\u001b[0m\u001b[1;33m(\u001b[0m\u001b[0mtmp\u001b[0m\u001b[1;33m)\u001b[0m\u001b[1;33m\u001b[0m\u001b[1;33m\u001b[0m\u001b[0m\n\u001b[0m\u001b[0;32m      7\u001b[0m             \u001b[0mtmp\u001b[0m\u001b[1;33m=\u001b[0m\u001b[1;34m''\u001b[0m\u001b[1;33m\u001b[0m\u001b[1;33m\u001b[0m\u001b[0m\n\u001b[0;32m      8\u001b[0m         \u001b[0mtmp\u001b[0m\u001b[1;33m+=\u001b[0m\u001b[0mchar\u001b[0m\u001b[1;33m\u001b[0m\u001b[1;33m\u001b[0m\u001b[0m\n",
      "\u001b[1;31mValueError\u001b[0m: invalid literal for int() with base 10: ''"
     ]
    }
   ],
   "source": [
    "print(pro_calc('123+2-124'))\n",
    "print(pro_calc('-12+12-7979+9191'))\n",
    "print(pro_calc('+1-1+1-1+1-1+1-1+1-1+1-1+1-1+1-1+1-1+1-1+1-1+1-1+1-1+1-1+1-1+1-1'))\n",
    "print(pro_calc2('123+2-124'))\n",
    "print(pro_calc2('-12+12-7979+9191'))\n",
    "print(pro_calc2('+1-1+1-1+1-1+1-1+1-1+1-1+1-1+1-1+1-1+1-1+1-1+1-1+1-1+1-1+1-1+1-1'))"
   ]
  },
  {
   "cell_type": "markdown",
   "metadata": {},
   "source": [
    "# 나만의 딕셔너리 생성기\n",
    "\n",
    "> key의 리스트와 value의 리스트로 딕셔너리를 생성하여 return 하는 `create_dict(keys, values)` 함수를 작성하세요.\n",
    ">\n",
    ">만약에 value의 갯수가 key의 갯수보다 부족한 경우, None을 채워 넣어야 합니다. 반대로 key의 갯수가 부족한 경우, 초과하는 value들은 무시해도 됩니다.\n",
    "\n",
    "예시)\n",
    "```python\n",
    "create_dict(['a', 'b', 'c', 'd'], [1, 2, 3]) #=> {'a': 1, 'b': 2, 'c': 3, 'd': None}\n",
    "create_dict(['a', 'b', 'c'], [1, 2, 3, 4]) #=> {'a': 1, 'b': 2, 'c': 3}\n",
    "```"
   ]
  },
  {
   "cell_type": "code",
   "execution_count": 68,
   "metadata": {},
   "outputs": [],
   "source": [
    "# 여기에 코드를 작성하세요.\n",
    "def create_dict(keys, values):\n",
    "    result={}\n",
    "    if len(keys)>len(values):\n",
    "        for index,num in enumerate(keys):\n",
    "            if index==len(values):\n",
    "                result.update({num:None})\n",
    "                break\n",
    "            else:\n",
    "                result.update({num:values[index]})\n",
    "    elif len(keys)<len(values):\n",
    "        for index,num in enumerate(keys):\n",
    "                result.update({num:values[index]})\n",
    "    else:\n",
    "        for index,num in enumerate(keys):\n",
    "            result.update({num:values[i]})\n",
    "    return result"
   ]
  },
  {
   "cell_type": "code",
   "execution_count": 70,
   "metadata": {},
   "outputs": [
    {
     "name": "stdout",
     "output_type": "stream",
     "text": [
      "{'a': 1, 'b': 2, 'c': 3, 'd': None}\n",
      "{'a': 1, 'b': 2, 'c': 3}\n"
     ]
    }
   ],
   "source": [
    "# 해당 코드를 통해 올바른 결과가 나오는지 확인하세요.\n",
    "print(create_dict(['a', 'b', 'c', 'd'], [1, 2, 3]))\n",
    "print(create_dict(['a', 'b', 'c'], [1, 2, 3, 4]))"
   ]
  },
  {
   "cell_type": "code",
   "execution_count": 96,
   "metadata": {},
   "outputs": [],
   "source": [
    "# 교수님 답\n",
    "def pro_create_dict2(keys, values):\n",
    "    while len(keys) > len(values):\n",
    "        values.append(None)\n",
    "    return dict(zip(keys,values))"
   ]
  },
  {
   "cell_type": "code",
   "execution_count": 97,
   "metadata": {},
   "outputs": [
    {
     "name": "stdout",
     "output_type": "stream",
     "text": [
      "{'a': 1, 'b': 2, 'c': 3, 'd': None}\n",
      "{'a': 1, 'b': 2, 'c': 3}\n",
      "{'a': 1, 'b': 2, 'c': 3, 'd': None}\n",
      "{'a': 1, 'b': 2, 'c': 3}\n"
     ]
    }
   ],
   "source": [
    "print(create_dict(['a', 'b', 'c', 'd'], [1, 2, 3]))\n",
    "print(create_dict(['a', 'b', 'c'], [1, 2, 3, 4]))\n",
    "print(pro_create_dict2(['a', 'b', 'c', 'd'], [1, 2, 3]))\n",
    "print(pro_create_dict2(['a', 'b', 'c'], [1, 2, 3, 4]))"
   ]
  },
  {
   "cell_type": "markdown",
   "metadata": {},
   "source": [
    "# 시험 채점 시스템\n",
    "\n",
    "> 첫 번째 인자는 정답이 들어있는 리스트, 두 번째 인자는 사용자의 답이 들어있는 리스트입니다. 두 리스트는 비어있지 않으며 길이가 같습니다.\n",
    ">\n",
    "> 정답의 경우 +4점, 오답의 경우 -1점, 공백 응답(빈 문자열)의 경우 0점입니다. 만약, 점수가 0보다 작으면 0을 return 합니다.\n",
    ">\n",
    "> 위와 같이 시험 점수를 체크하는 함수 `check_score(real_answers, my_answers)` 을 작성하세요.\n",
    "\n",
    "예시)\n",
    "\n",
    "```python\n",
    "check_score([\"a\", \"a\", \"b\", \"b\"], [\"a\", \"c\", \"b\", \"d\"]) #=> 6\n",
    "check_score([\"a\", \"a\", \"c\", \"b\"], [\"a\", \"a\", \"b\", \"\"]) #=> 7\n",
    "check_score([\"a\", \"a\", \"b\", \"c\"], [\"a\", \"a\", \"b\", \"c\"]) #=> 16\n",
    "check_score([\"b\", \"c\", \"b\", \"a\"], [\"\", \"a\", \"a\", \"c\"]) #=> 0\n",
    "```"
   ]
  },
  {
   "cell_type": "code",
   "execution_count": 98,
   "metadata": {},
   "outputs": [],
   "source": [
    "# 여기에 코드를 작성하세요.\n",
    "def check_score(real_answers, my_answers):\n",
    "    score=0\n",
    "    for index, value in enumerate(real_answers):\n",
    "        if value==my_answers[index]:\n",
    "            score+=4\n",
    "        else:\n",
    "            if my_answers[index]==\"\":\n",
    "                continue\n",
    "            else:\n",
    "                score-=1\n",
    "    if score<0:\n",
    "        score=0\n",
    "    return score"
   ]
  },
  {
   "cell_type": "code",
   "execution_count": 99,
   "metadata": {},
   "outputs": [
    {
     "name": "stdout",
     "output_type": "stream",
     "text": [
      "6\n",
      "7\n",
      "16\n",
      "0\n"
     ]
    }
   ],
   "source": [
    "# 해당 코드를 통해 올바른 결과가 나오는지 확인하세요.\n",
    "print(check_score([\"a\", \"a\", \"b\", \"b\"], [\"a\", \"c\", \"b\", \"d\"]))\n",
    "print(check_score([\"a\", \"a\", \"c\", \"b\"], [\"a\", \"a\", \"b\", \"\"]))\n",
    "print(check_score([\"a\", \"a\", \"b\", \"c\"], [\"a\", \"a\", \"b\", \"c\"]))\n",
    "print(check_score([\"b\", \"c\", \"b\", \"a\"], [\"\", \"a\", \"a\", \"c\"]))"
   ]
  },
  {
   "cell_type": "code",
   "execution_count": 108,
   "metadata": {},
   "outputs": [],
   "source": [
    "#교수님 답\n",
    "#반복문이용\n",
    "def pro_check_score(real_answers, my_answers):\n",
    "    score=0\n",
    "    for i in range(len(real_answers)): # range= range(0)\n",
    "        if real_answers[i]==my_answers[i]:\n",
    "            score+=4\n",
    "        elif my_answers[i]=='':\n",
    "            score+=0\n",
    "        else:\n",
    "            score+=-1\n",
    "    if score<0:\n",
    "        score=0\n",
    "    return score\n",
    "    \n",
    "#zip이용    \n",
    "def pro_check_score2(real_answers, my_answers):\n",
    "    return max(0,sum([4 if r==m else -1 for r, m in zip(real_answers,my_answers) if m]))"
   ]
  },
  {
   "cell_type": "code",
   "execution_count": 109,
   "metadata": {},
   "outputs": [
    {
     "name": "stdout",
     "output_type": "stream",
     "text": [
      "6\n",
      "7\n",
      "16\n",
      "0\n",
      "6\n",
      "7\n",
      "16\n",
      "0\n"
     ]
    }
   ],
   "source": [
    "print(pro_check_score([\"a\", \"a\", \"b\", \"b\"], [\"a\", \"c\", \"b\", \"d\"]))\n",
    "print(pro_check_score([\"a\", \"a\", \"c\", \"b\"], [\"a\", \"a\", \"b\", \"\"]))\n",
    "print(pro_check_score([\"a\", \"a\", \"b\", \"c\"], [\"a\", \"a\", \"b\", \"c\"]))\n",
    "print(pro_check_score([\"b\", \"c\", \"b\", \"a\"], [\"\", \"a\", \"a\", \"c\"]))\n",
    "\n",
    "print(pro_check_score2([\"a\", \"a\", \"b\", \"b\"], [\"a\", \"c\", \"b\", \"d\"]))\n",
    "print(pro_check_score2([\"a\", \"a\", \"c\", \"b\"], [\"a\", \"a\", \"b\", \"\"]))\n",
    "print(pro_check_score2([\"a\", \"a\", \"b\", \"c\"], [\"a\", \"a\", \"b\", \"c\"]))\n",
    "print(pro_check_score2([\"b\", \"c\", \"b\", \"a\"], [\"\", \"a\", \"a\", \"c\"]))"
   ]
  },
  {
   "cell_type": "code",
   "execution_count": null,
   "metadata": {},
   "outputs": [],
   "source": []
  }
 ],
 "metadata": {
  "kernelspec": {
   "display_name": "Python 3",
   "language": "python",
   "name": "python3"
  },
  "language_info": {
   "codemirror_mode": {
    "name": "ipython",
    "version": 3
   },
   "file_extension": ".py",
   "mimetype": "text/x-python",
   "name": "python",
   "nbconvert_exporter": "python",
   "pygments_lexer": "ipython3",
   "version": "3.7.1"
  },
  "toc": {
   "base_numbering": 1,
   "nav_menu": {},
   "number_sections": true,
   "sideBar": true,
   "skip_h1_title": false,
   "title_cell": "Table of Contents",
   "title_sidebar": "Contents",
   "toc_cell": false,
   "toc_position": {},
   "toc_section_display": true,
   "toc_window_display": false
  }
 },
 "nbformat": 4,
 "nbformat_minor": 2
}
